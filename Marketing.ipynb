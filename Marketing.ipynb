{
 "cells": [
  {
   "cell_type": "markdown",
   "metadata": {
    "collapsed": false
   },
   "source": [
    "##  Data Description: The dataset holds customer information that aims at predicting whether a prospective customer responds to a marketing campaign or not. "
   ]
  },
  {
   "cell_type": "markdown",
   "metadata": {},
   "source": [
    "The dataset contains a total of 22 variables, the class outcome/response being stored in the column \"responded\" and the rest of the predictors. The dataset is a combination of both numeric and categorical variables with a few variables containing a lot of missing values.\n",
    "\n",
    "The problem was tackled in the following sequence:\n",
    "\n",
    "1. Import the dataset and shape it to identify the missing values by replacing blank spaces with NA values\n",
    "\n",
    "2. Conduct Exploratory Data Analysis to  find out the distributions (nature) of variables containing the missing values and identify whether some correlations exist between the predictor variables\n",
    "\n",
    "3. Conduct a variable importance analysis, based on measures like the Mean Decrease in GINI to identify the variables containing the most amount of information to conduct classification\n",
    "\n",
    "4. Using exploratory analysis and descriptive statistics to identify a suitable missing value imputation technique, or whether to carry out missing value imputation at all.\n",
    "\n",
    "5. Once missing value problem was tackled, class balancing was achieved with a suitable scheme.\n",
    "\n",
    "6. With both missing values tackled and classes balanced, different classsification models/schemes were built to check the performance of the model. Generalisation error rate, Balanced error rate, Sensitivity and Specificity are some of the accuracy measures which were checked. Validation on the training set was done using 10-fold cross validation and a part of the training set was kept to make predictions on unseen data records.\n",
    "\n",
    "7. The test set was imputed with missing values with the same scheme that was used for the training set.\n",
    "\n",
    "8. The final classification model was used to generate predictions for the imputed test set, which were recorded in the CSV file attached.\n",
    "\n"
   ]
  },
  {
   "cell_type": "markdown",
   "metadata": {},
   "source": [
    "# 1. Exploratory Analysis"
   ]
  },
  {
   "cell_type": "code",
   "execution_count": 2,
   "metadata": {
    "collapsed": true
   },
   "outputs": [],
   "source": [
    "    #Loading the package management tool to install & load packages\n",
    "pacman::p_load(Hmisc, ROCR,gmodels,Amelia, mice,lattice, xgboost, readr, stringr, vegan,psych,FactoMineR, PCAmixdata, RWeka, DMwR, rattle, car,caret, MASS, e1071, mlbench, klaR, combinat,ggplot2, googleVis,randomForest, reshape2, VIM)"
   ]
  },
  {
   "cell_type": "code",
   "execution_count": 3,
   "metadata": {
    "collapsed": false
   },
   "outputs": [],
   "source": [
    "#importing the dataset into a dataframe\n",
    "train <- read.csv('......../marketing_training.csv', na.strings='')"
   ]
  },
  {
   "cell_type": "code",
   "execution_count": 4,
   "metadata": {
    "collapsed": false
   },
   "outputs": [
    {
     "name": "stdout",
     "output_type": "stream",
     "text": [
      "'data.frame':\t7414 obs. of  22 variables:\n",
      " $ custAge       : int  55 NA 42 55 NA 47 35 NA 28 46 ...\n",
      " $ profession    : Factor w/ 12 levels \"admin.\",\"blue-collar\",..: 1 2 10 5 1 2 8 8 11 2 ...\n",
      " $ marital       : Factor w/ 4 levels \"divorced\",\"married\",..: 3 2 2 1 1 2 3 2 2 2 ...\n",
      " $ schooling     : Factor w/ 8 levels \"basic.4y\",\"basic.6y\",..: 7 NA 4 NA 7 1 NA 4 3 3 ...\n",
      " $ default       : Factor w/ 3 levels \"no\",\"unknown\",..: 2 1 1 2 1 1 1 1 1 1 ...\n",
      " $ housing       : Factor w/ 3 levels \"no\",\"unknown\",..: 1 1 1 3 3 3 3 3 3 3 ...\n",
      " $ loan          : Factor w/ 3 levels \"no\",\"unknown\",..: 1 1 1 3 1 1 1 1 1 1 ...\n",
      " $ contact       : Factor w/ 2 levels \"cellular\",\"telephone\": 1 1 2 1 1 2 2 2 1 1 ...\n",
      " $ month         : Factor w/ 10 levels \"apr\",\"aug\",\"dec\",..: 8 4 7 4 7 7 7 7 7 8 ...\n",
      " $ day_of_week   : Factor w/ 5 levels \"fri\",\"mon\",\"thu\",..: 2 2 2 5 4 1 4 5 1 2 ...\n",
      " $ campaign      : int  1 1 1 2 5 1 1 2 1 2 ...\n",
      " $ pdays         : int  999 999 999 999 999 999 999 999 999 999 ...\n",
      " $ previous      : int  0 0 0 0 1 0 0 0 0 1 ...\n",
      " $ poutcome      : Factor w/ 3 levels \"failure\",\"nonexistent\",..: 2 2 2 2 1 2 2 2 2 1 ...\n",
      " $ emp.var.rate  : num  -0.1 1.4 1.1 1.4 -1.8 1.1 1.1 1.1 -1.8 -0.1 ...\n",
      " $ cons.price.idx: num  93.2 93.9 94 93.9 92.9 ...\n",
      " $ cons.conf.idx : num  -42 -42.7 -36.4 -42.7 -46.2 -36.4 -36.4 -36.4 -46.2 -42 ...\n",
      " $ euribor3m     : num  4.19 4.96 4.86 4.96 1.29 ...\n",
      " $ nr.employed   : num  5196 5228 5191 5228 5099 ...\n",
      " $ pmonths       : num  999 999 999 999 999 999 999 999 999 999 ...\n",
      " $ pastEmail     : int  0 0 0 0 1 0 0 0 0 0 ...\n",
      " $ responded     : Factor w/ 2 levels \"no\",\"yes\": 1 1 1 1 1 1 2 1 1 1 ...\n"
     ]
    }
   ],
   "source": [
    "#Structure of dataset\n",
    "str(train)"
   ]
  },
  {
   "cell_type": "code",
   "execution_count": 5,
   "metadata": {
    "collapsed": false,
    "scrolled": true
   },
   "outputs": [
    {
     "data": {
      "text/plain": [
       "\n",
       "Data frame:train\t7414 observations and 22 variables    Maximum # NAs:2155\n",
       "\n",
       "\n",
       "               Levels Storage  NAs\n",
       "custAge               integer 1804\n",
       "profession         12 integer    0\n",
       "marital             4 integer    0\n",
       "schooling           8 integer 2155\n",
       "default             3 integer    0\n",
       "housing             3 integer    0\n",
       "loan                3 integer    0\n",
       "contact             2 integer    0\n",
       "month              10 integer    0\n",
       "day_of_week         5 integer  711\n",
       "campaign              integer    0\n",
       "pdays                 integer    0\n",
       "previous              integer    0\n",
       "poutcome            3 integer    0\n",
       "emp.var.rate           double    0\n",
       "cons.price.idx         double    0\n",
       "cons.conf.idx          double    0\n",
       "euribor3m              double    0\n",
       "nr.employed            double    0\n",
       "pmonths                double    0\n",
       "pastEmail             integer    0\n",
       "responded           2 integer    0\n",
       "\n",
       "+-----------+------------------------------------------------------------+\n",
       "|Variable   |Levels                                                      |\n",
       "+-----------+------------------------------------------------------------+\n",
       "|profession |admin.,blue-collar,entrepreneur,housemaid,management,retired|\n",
       "|           |self-employed,services,student,technician,unemployed,unknown|\n",
       "+-----------+------------------------------------------------------------+\n",
       "|marital    |divorced,married,single,unknown                             |\n",
       "+-----------+------------------------------------------------------------+\n",
       "|schooling  |basic.4y,basic.6y,basic.9y,high.school,illiterate           |\n",
       "|           |professional.course,university.degree,unknown               |\n",
       "+-----------+------------------------------------------------------------+\n",
       "|default    |no,unknown,yes                                              |\n",
       "|housing    |                                                            |\n",
       "|loan       |                                                            |\n",
       "+-----------+------------------------------------------------------------+\n",
       "|contact    |cellular,telephone                                          |\n",
       "+-----------+------------------------------------------------------------+\n",
       "|month      |apr,aug,dec,jul,jun,mar,may,nov,oct,sep                     |\n",
       "+-----------+------------------------------------------------------------+\n",
       "|day_of_week|fri,mon,thu,tue,wed                                         |\n",
       "+-----------+------------------------------------------------------------+\n",
       "|poutcome   |failure,nonexistent,success                                 |\n",
       "+-----------+------------------------------------------------------------+\n",
       "|responded  |no,yes                                                      |\n",
       "+-----------+------------------------------------------------------------+"
      ]
     },
     "metadata": {},
     "output_type": "display_data"
    }
   ],
   "source": [
    "#Contents function describes the levels in the categorical variables and the missing values in each variable.\n",
    "contents(train)"
   ]
  },
  {
   "cell_type": "code",
   "execution_count": 6,
   "metadata": {
    "collapsed": false
   },
   "outputs": [
    {
     "data": {
      "image/png": "[encoded data removed]",
      "text/plain": [
       "Plot with title \"MIssing vs observed\""
      ]
     },
     "metadata": {},
     "output_type": "display_data"
    }
   ],
   "source": [
    "#Visualizing the features with missing values\n",
    "missmap(train,main=\"MIssing vs observed\")"
   ]
  },
  {
   "cell_type": "code",
   "execution_count": 7,
   "metadata": {
    "collapsed": false
   },
   "outputs": [
    {
     "data": {
      "image/png": "[encoded data removed]",
      "text/plain": [
       "Plot with title \"Class Label Distribution of responded\""
      ]
     },
     "metadata": {},
     "output_type": "display_data"
    }
   ],
   "source": [
    "# Generate the summary data for plotting.\n",
    "ds <- rbind(summary(na.omit(train[,]$responded)))\n",
    "\n",
    "# Sort the entries.\n",
    "ord <- order(ds[1,], decreasing=TRUE)\n",
    "\n",
    "# Plot the data.\n",
    "bp <-  barplot2(ds[,ord], beside=TRUE, ylab=\"Frequency\", xlab=\"responded\", ylim=c(0, 7889), col=colorspace::rainbow_hcl(3))\n",
    "\n",
    "# Add the actual frequencies.\n",
    "text(bp, ds[,ord]+263, ds[,ord])\n",
    "\n",
    "# Add a title to the plot.\n",
    "title(main=\"Class Label Distribution of responded\")\n"
   ]
  },
  {
   "cell_type": "markdown",
   "metadata": {},
   "source": [
    "The class imbalance is pretty significant, with 6574 instances belonging to the \"no\" class and 840 instances belonging to the \"yes\" class. \n",
    "If the model is built on imbalanced data, then prediction accuracy will be biased as the model gets trained in an unbalanced fashion. "
   ]
  },
  {
   "cell_type": "code",
   "execution_count": 9,
   "metadata": {
    "collapsed": false,
    "scrolled": false
   },
   "outputs": [
    {
     "data": {
      "text/html": [
       "<table>\n",
       "<thead><tr><th scope=col>custAge</th><th scope=col>profession</th><th scope=col>marital</th><th scope=col>schooling</th><th scope=col>default</th><th scope=col>housing</th><th scope=col>loan</th><th scope=col>contact</th><th scope=col>month</th><th scope=col>day_of_week</th><th scope=col>...</th><th scope=col>previous</th><th scope=col>poutcome</th><th scope=col>emp.var.rate</th><th scope=col>cons.price.idx</th><th scope=col>cons.conf.idx</th><th scope=col>euribor3m</th><th scope=col>nr.employed</th><th scope=col>pmonths</th><th scope=col>pastEmail</th><th scope=col>responded</th></tr></thead>\n",
       "<tbody>\n",
       "\t<tr><td>55               </td><td>admin.           </td><td>single           </td><td>university.degree</td><td>unknown          </td><td>no               </td><td>no               </td><td>cellular         </td><td>nov              </td><td>mon              </td><td>...              </td><td>0                </td><td>nonexistent      </td><td>-0.1             </td><td>93.200           </td><td>-42.0            </td><td>4.191            </td><td>5195.8           </td><td>999              </td><td>0                </td><td>no               </td></tr>\n",
       "\t<tr><td>NA               </td><td>blue-collar      </td><td>married          </td><td>NA               </td><td>no               </td><td>no               </td><td>no               </td><td>cellular         </td><td>jul              </td><td>mon              </td><td>...              </td><td>0                </td><td>nonexistent      </td><td> 1.4             </td><td>93.918           </td><td>-42.7            </td><td>4.960            </td><td>5228.1           </td><td>999              </td><td>0                </td><td>no               </td></tr>\n",
       "\t<tr><td>42               </td><td>technician       </td><td>married          </td><td>high.school      </td><td>no               </td><td>no               </td><td>no               </td><td>telephone        </td><td>may              </td><td>mon              </td><td>...              </td><td>0                </td><td>nonexistent      </td><td> 1.1             </td><td>93.994           </td><td>-36.4            </td><td>4.857            </td><td>5191.0           </td><td>999              </td><td>0                </td><td>no               </td></tr>\n",
       "\t<tr><td>55               </td><td>management       </td><td>divorced         </td><td>NA               </td><td>unknown          </td><td>yes              </td><td>yes              </td><td>cellular         </td><td>jul              </td><td>wed              </td><td>...              </td><td>0                </td><td>nonexistent      </td><td> 1.4             </td><td>93.918           </td><td>-42.7            </td><td>4.962            </td><td>5228.1           </td><td>999              </td><td>0                </td><td>no               </td></tr>\n",
       "\t<tr><td>NA               </td><td>admin.           </td><td>divorced         </td><td>university.degree</td><td>no               </td><td>yes              </td><td>no               </td><td>cellular         </td><td>may              </td><td>tue              </td><td>...              </td><td>1                </td><td>failure          </td><td>-1.8             </td><td>92.893           </td><td>-46.2            </td><td>1.291            </td><td>5099.1           </td><td>999              </td><td>1                </td><td>no               </td></tr>\n",
       "\t<tr><td>47               </td><td>blue-collar      </td><td>married          </td><td>basic.4y         </td><td>no               </td><td>yes              </td><td>no               </td><td>telephone        </td><td>may              </td><td>fri              </td><td>...              </td><td>0                </td><td>nonexistent      </td><td> 1.1             </td><td>93.994           </td><td>-36.4            </td><td>4.857            </td><td>5191.0           </td><td>999              </td><td>0                </td><td>no               </td></tr>\n",
       "</tbody>\n",
       "</table>\n"
      ],
      "text/latex": [
       "\\begin{tabular}{r|llllllllllllllllllllll}\n",
       " custAge & profession & marital & schooling & default & housing & loan & contact & month & day\\_of\\_week & ... & previous & poutcome & emp.var.rate & cons.price.idx & cons.conf.idx & euribor3m & nr.employed & pmonths & pastEmail & responded\\\\\n",
       "\\hline\n",
       "\t 55                & admin.            & single            & university.degree & unknown           & no                & no                & cellular          & nov               & mon               & ...               & 0                 & nonexistent       & -0.1              & 93.200            & -42.0             & 4.191             & 5195.8            & 999               & 0                 & no               \\\\\n",
       "\t NA                & blue-collar       & married           & NA                & no                & no                & no                & cellular          & jul               & mon               & ...               & 0                 & nonexistent       &  1.4              & 93.918            & -42.7             & 4.960             & 5228.1            & 999               & 0                 & no               \\\\\n",
       "\t 42                & technician        & married           & high.school       & no                & no                & no                & telephone         & may               & mon               & ...               & 0                 & nonexistent       &  1.1              & 93.994            & -36.4             & 4.857             & 5191.0            & 999               & 0                 & no               \\\\\n",
       "\t 55                & management        & divorced          & NA                & unknown           & yes               & yes               & cellular          & jul               & wed               & ...               & 0                 & nonexistent       &  1.4              & 93.918            & -42.7             & 4.962             & 5228.1            & 999               & 0                 & no               \\\\\n",
       "\t NA                & admin.            & divorced          & university.degree & no                & yes               & no                & cellular          & may               & tue               & ...               & 1                 & failure           & -1.8              & 92.893            & -46.2             & 1.291             & 5099.1            & 999               & 1                 & no               \\\\\n",
       "\t 47                & blue-collar       & married           & basic.4y          & no                & yes               & no                & telephone         & may               & fri               & ...               & 0                 & nonexistent       &  1.1              & 93.994            & -36.4             & 4.857             & 5191.0            & 999               & 0                 & no               \\\\\n",
       "\\end{tabular}\n"
      ],
      "text/markdown": [
       "\n",
       "custAge | profession | marital | schooling | default | housing | loan | contact | month | day_of_week | ... | previous | poutcome | emp.var.rate | cons.price.idx | cons.conf.idx | euribor3m | nr.employed | pmonths | pastEmail | responded | \n",
       "|---|---|---|---|---|---|\n",
       "| 55                | admin.            | single            | university.degree | unknown           | no                | no                | cellular          | nov               | mon               | ...               | 0                 | nonexistent       | -0.1              | 93.200            | -42.0             | 4.191             | 5195.8            | 999               | 0                 | no                | \n",
       "| NA                | blue-collar       | married           | NA                | no                | no                | no                | cellular          | jul               | mon               | ...               | 0                 | nonexistent       |  1.4              | 93.918            | -42.7             | 4.960             | 5228.1            | 999               | 0                 | no                | \n",
       "| 42                | technician        | married           | high.school       | no                | no                | no                | telephone         | may               | mon               | ...               | 0                 | nonexistent       |  1.1              | 93.994            | -36.4             | 4.857             | 5191.0            | 999               | 0                 | no                | \n",
       "| 55                | management        | divorced          | NA                | unknown           | yes               | yes               | cellular          | jul               | wed               | ...               | 0                 | nonexistent       |  1.4              | 93.918            | -42.7             | 4.962             | 5228.1            | 999               | 0                 | no                | \n",
       "| NA                | admin.            | divorced          | university.degree | no                | yes               | no                | cellular          | may               | tue               | ...               | 1                 | failure           | -1.8              | 92.893            | -46.2             | 1.291             | 5099.1            | 999               | 1                 | no                | \n",
       "| 47                | blue-collar       | married           | basic.4y          | no                | yes               | no                | telephone         | may               | fri               | ...               | 0                 | nonexistent       |  1.1              | 93.994            | -36.4             | 4.857             | 5191.0            | 999               | 0                 | no                | \n",
       "\n",
       "\n"
      ],
      "text/plain": [
       "  custAge profession  marital  schooling         default housing loan contact  \n",
       "1 55      admin.      single   university.degree unknown no      no   cellular \n",
       "2 NA      blue-collar married  NA                no      no      no   cellular \n",
       "3 42      technician  married  high.school       no      no      no   telephone\n",
       "4 55      management  divorced NA                unknown yes     yes  cellular \n",
       "5 NA      admin.      divorced university.degree no      yes     no   cellular \n",
       "6 47      blue-collar married  basic.4y          no      yes     no   telephone\n",
       "  month day_of_week ... previous poutcome    emp.var.rate cons.price.idx\n",
       "1 nov   mon         ... 0        nonexistent -0.1         93.200        \n",
       "2 jul   mon         ... 0        nonexistent  1.4         93.918        \n",
       "3 may   mon         ... 0        nonexistent  1.1         93.994        \n",
       "4 jul   wed         ... 0        nonexistent  1.4         93.918        \n",
       "5 may   tue         ... 1        failure     -1.8         92.893        \n",
       "6 may   fri         ... 0        nonexistent  1.1         93.994        \n",
       "  cons.conf.idx euribor3m nr.employed pmonths pastEmail responded\n",
       "1 -42.0         4.191     5195.8      999     0         no       \n",
       "2 -42.7         4.960     5228.1      999     0         no       \n",
       "3 -36.4         4.857     5191.0      999     0         no       \n",
       "4 -42.7         4.962     5228.1      999     0         no       \n",
       "5 -46.2         1.291     5099.1      999     1         no       \n",
       "6 -36.4         4.857     5191.0      999     0         no       "
      ]
     },
     "metadata": {},
     "output_type": "display_data"
    }
   ],
   "source": [
    "#Looking at a subset of the data\n",
    "head(train)"
   ]
  },
  {
   "cell_type": "markdown",
   "metadata": {},
   "source": [
    "# 2. Data Transformations"
   ]
  },
  {
   "cell_type": "markdown",
   "metadata": {},
   "source": [
    "Missing Value imputation is an important step to data cleaning. The three variables custAge, Schooling and Day_of week have missing values. One option was to remove the missing values and build the model, doing which results in loss of information. Given that the test set also has a lot of missing values, it doesnt make sense to build a model by removing missing value instances. \n",
    "\n",
    "Instead, an appropriate imputation technique was used to impute the missing values."
   ]
  },
  {
   "cell_type": "markdown",
   "metadata": {},
   "source": [
    "## The MICE Package\n",
    "\n",
    "Several simpler imputation techniques like mean, median, K-Means etc were considered and rejected due to the following concerns\n",
    "Mean imputation works well only if we assume the underlying distrubtion of the variable to be imputed is normal. Also, it only works for numerical data. Median imputation doesn't work for categorical data\n",
    "\n",
    "K-means imputation works on euclidean distances, which might not be the right approach to run of categorical data as the distances dont signify anything in categorical data\n",
    "The MICE package provides us with the most robust imputation techniques. MICE assumes that the missing data are Missing at Random (MAR), which means that the probability that a value is missing depends only on observed value and can be predicted using them. It imputes data on a variable by variable basis by specifying an imputation model per variable.\n",
    "\n",
    "Since we have mixed data types,(1 numeric and 2 categorical) we need different imputation schemes to impute data which MICE provides.\n",
    "\n",
    "MICE works by regressing each variable onto the other and then filling the missing values by using the fitted regression model. Predictive Mean matching (PMM) is a good technique which is used by defualt and works well on categorical variables as they are auto encoded.\n",
    "\n",
    "m=5 represents that we created 5 different datasets with different imputed values, and we can select one on random or choose a combination of all 5. Combination of all 5 results in high computation time, so only 1 was used.\n",
    "\n",
    "Advantages of MICE\n",
    "1. As variables are regressed onto each other, imputed missing values use the information present in other variables. \n",
    "2. Works well both for numeric and categorical data as regression/logistic regression method gives a good fit, especially since so many variables have high correlations with each other.\n",
    "3. Has a statistical significance to imputing values in such a fashion\n",
    "\n",
    "Cons\n",
    "1. Since the values imputed have a random bias to it, more datasets of imputed data need to be considered, which takes a lot of time"
   ]
  },
  {
   "cell_type": "code",
   "execution_count": 10,
   "metadata": {
    "collapsed": true
   },
   "outputs": [],
   "source": [
    "#Copying the original training dataset to another dataframe\n",
    "training = train"
   ]
  },
  {
   "cell_type": "code",
   "execution_count": 11,
   "metadata": {
    "collapsed": false
   },
   "outputs": [
    {
     "name": "stdout",
     "output_type": "stream",
     "text": [
      "\n",
      " Variables sorted by number of missings: \n",
      "       Variable      Count\n",
      "      schooling 0.29066631\n",
      "        custAge 0.24332344\n",
      "    day_of_week 0.09589965\n",
      "     profession 0.00000000\n",
      "        marital 0.00000000\n",
      "        default 0.00000000\n",
      "        housing 0.00000000\n",
      "           loan 0.00000000\n",
      "        contact 0.00000000\n",
      "          month 0.00000000\n",
      "       campaign 0.00000000\n",
      "          pdays 0.00000000\n",
      "       previous 0.00000000\n",
      "       poutcome 0.00000000\n",
      "   emp.var.rate 0.00000000\n",
      " cons.price.idx 0.00000000\n",
      "  cons.conf.idx 0.00000000\n",
      "      euribor3m 0.00000000\n",
      "    nr.employed 0.00000000\n",
      "        pmonths 0.00000000\n",
      "      pastEmail 0.00000000\n",
      "      responded 0.00000000\n"
     ]
    },
    {
     "data": {
      "image/png": "[encoded data removed]",
      "text/plain": [
       "plot without title"
      ]
     },
     "metadata": {},
     "output_type": "display_data"
    }
   ],
   "source": [
    "#visualizing missing data using the 'VIM' package\n",
    "mice_plot <- aggr(training, col=c(\"navyblue\",\"yellow\"),\n",
    "                    numbers=TRUE, sortVars=TRUE,\n",
    "                    labels=names(numeric), cex.axis=.7,\n",
    "                    gap=3, ylab=c(\"Missing data\",\"Pattern\"))\n",
    "\n"
   ]
  },
  {
   "cell_type": "code",
   "execution_count": 12,
   "metadata": {
    "collapsed": false,
    "scrolled": false
   },
   "outputs": [
    {
     "name": "stdout",
     "output_type": "stream",
     "text": [
      "\n",
      " iter imp variable\n",
      "  1   1  custAge  schooling  day_of_week\n",
      "  1   2  custAge  schooling  day_of_week\n",
      "  1   3  custAge  schooling  day_of_week\n",
      "  1   4  custAge  schooling  day_of_week\n",
      "  1   5  custAge  schooling  day_of_week\n",
      "  2   1  custAge  schooling  day_of_week\n",
      "  2   2  custAge  schooling  day_of_week\n",
      "  2   3  custAge  schooling  day_of_week\n",
      "  2   4  custAge  schooling  day_of_week\n",
      "  2   5  custAge  schooling  day_of_week\n",
      "  3   1  custAge  schooling  day_of_week\n",
      "  3   2  custAge  schooling  day_of_week\n",
      "  3   3  custAge  schooling  day_of_week\n",
      "  3   4  custAge  schooling  day_of_week\n",
      "  3   5  custAge  schooling  day_of_week\n",
      "  4   1  custAge  schooling  day_of_week\n",
      "  4   2  custAge  schooling  day_of_week\n",
      "  4   3  custAge  schooling  day_of_week\n",
      "  4   4  custAge  schooling  day_of_week\n",
      "  4   5  custAge  schooling  day_of_week\n",
      "  5   1  custAge  schooling  day_of_week\n",
      "  5   2  custAge  schooling  day_of_week\n",
      "  5   3  custAge  schooling  day_of_week\n",
      "  5   4  custAge  schooling  day_of_week\n",
      "  5   5  custAge  schooling  day_of_week\n",
      "  6   1  custAge  schooling  day_of_week\n",
      "  6   2  custAge  schooling  day_of_week\n",
      "  6   3  custAge  schooling  day_of_week\n",
      "  6   4  custAge  schooling  day_of_week\n",
      "  6   5  custAge  schooling  day_of_week\n",
      "  7   1  custAge  schooling  day_of_week\n",
      "  7   2  custAge  schooling  day_of_week\n",
      "  7   3  custAge  schooling  day_of_week\n",
      "  7   4  custAge  schooling  day_of_week\n",
      "  7   5  custAge  schooling  day_of_week\n",
      "  8   1  custAge  schooling  day_of_week\n",
      "  8   2  custAge  schooling  day_of_week\n",
      "  8   3  custAge  schooling  day_of_week\n",
      "  8   4  custAge  schooling  day_of_week\n",
      "  8   5  custAge  schooling  day_of_week\n",
      "  9   1  custAge  schooling  day_of_week\n",
      "  9   2  custAge  schooling  day_of_week\n",
      "  9   3  custAge  schooling  day_of_week\n",
      "  9   4  custAge  schooling  day_of_week\n",
      "  9   5  custAge  schooling  day_of_week\n",
      "  10   1  custAge  schooling  day_of_week\n",
      "  10   2  custAge  schooling  day_of_week\n",
      "  10   3  custAge  schooling  day_of_week\n",
      "  10   4  custAge  schooling  day_of_week\n",
      "  10   5  custAge  schooling  day_of_week\n",
      "  11   1  custAge  schooling  day_of_week\n",
      "  11   2  custAge  schooling  day_of_week\n",
      "  11   3  custAge  schooling  day_of_week\n",
      "  11   4  custAge  schooling  day_of_week\n",
      "  11   5  custAge  schooling  day_of_week\n",
      "  12   1  custAge  schooling  day_of_week\n",
      "  12   2  custAge  schooling  day_of_week\n",
      "  12   3  custAge  schooling  day_of_week\n",
      "  12   4  custAge  schooling  day_of_week\n",
      "  12   5  custAge  schooling  day_of_week\n",
      "  13   1  custAge  schooling  day_of_week\n",
      "  13   2  custAge  schooling  day_of_week\n",
      "  13   3  custAge  schooling  day_of_week\n",
      "  13   4  custAge  schooling  day_of_week\n",
      "  13   5  custAge  schooling  day_of_week\n",
      "  14   1  custAge  schooling  day_of_week\n",
      "  14   2  custAge  schooling  day_of_week\n",
      "  14   3  custAge  schooling  day_of_week\n",
      "  14   4  custAge  schooling  day_of_week\n",
      "  14   5  custAge  schooling  day_of_week\n",
      "  15   1  custAge  schooling  day_of_week\n",
      "  15   2  custAge  schooling  day_of_week\n",
      "  15   3  custAge  schooling  day_of_week\n",
      "  15   4  custAge  schooling  day_of_week\n",
      "  15   5  custAge  schooling  day_of_week\n",
      "  16   1  custAge  schooling  day_of_week\n",
      "  16   2  custAge  schooling  day_of_week\n",
      "  16   3  custAge  schooling  day_of_week\n",
      "  16   4  custAge  schooling  day_of_week\n",
      "  16   5  custAge  schooling  day_of_week\n",
      "  17   1  custAge  schooling  day_of_week\n",
      "  17   2  custAge  schooling  day_of_week\n",
      "  17   3  custAge  schooling  day_of_week\n",
      "  17   4  custAge  schooling  day_of_week\n",
      "  17   5  custAge  schooling  day_of_week\n",
      "  18   1  custAge  schooling  day_of_week\n",
      "  18   2  custAge  schooling  day_of_week\n",
      "  18   3  custAge  schooling  day_of_week\n",
      "  18   4  custAge  schooling  day_of_week\n",
      "  18   5  custAge  schooling  day_of_week\n",
      "  19   1  custAge  schooling  day_of_week\n",
      "  19   2  custAge  schooling  day_of_week\n",
      "  19   3  custAge  schooling  day_of_week\n",
      "  19   4  custAge  schooling  day_of_week\n",
      "  19   5  custAge  schooling  day_of_week\n",
      "  20   1  custAge  schooling  day_of_week\n",
      "  20   2  custAge  schooling  day_of_week\n",
      "  20   3  custAge  schooling  day_of_week\n",
      "  20   4  custAge  schooling  day_of_week\n",
      "  20   5  custAge  schooling  day_of_week\n",
      "  21   1  custAge  schooling  day_of_week\n",
      "  21   2  custAge  schooling  day_of_week\n",
      "  21   3  custAge  schooling  day_of_week\n",
      "  21   4  custAge  schooling  day_of_week\n",
      "  21   5  custAge  schooling  day_of_week\n",
      "  22   1  custAge  schooling  day_of_week\n",
      "  22   2  custAge  schooling  day_of_week\n",
      "  22   3  custAge  schooling  day_of_week\n",
      "  22   4  custAge  schooling  day_of_week\n",
      "  22   5  custAge  schooling  day_of_week\n",
      "  23   1  custAge  schooling  day_of_week\n",
      "  23   2  custAge  schooling  day_of_week\n",
      "  23   3  custAge  schooling  day_of_week\n",
      "  23   4  custAge  schooling  day_of_week\n",
      "  23   5  custAge  schooling  day_of_week\n",
      "  24   1  custAge  schooling  day_of_week\n",
      "  24   2  custAge  schooling  day_of_week\n",
      "  24   3  custAge  schooling  day_of_week\n",
      "  24   4  custAge  schooling  day_of_week\n",
      "  24   5  custAge  schooling  day_of_week\n",
      "  25   1  custAge  schooling  day_of_week\n",
      "  25   2  custAge  schooling  day_of_week\n",
      "  25   3  custAge  schooling  day_of_week\n",
      "  25   4  custAge  schooling  day_of_week\n",
      "  25   5  custAge  schooling  day_of_week\n",
      "  26   1  custAge  schooling  day_of_week\n",
      "  26   2  custAge  schooling  day_of_week\n",
      "  26   3  custAge  schooling  day_of_week\n",
      "  26   4  custAge  schooling  day_of_week\n",
      "  26   5  custAge  schooling  day_of_week\n",
      "  27   1  custAge  schooling  day_of_week\n",
      "  27   2  custAge  schooling  day_of_week\n",
      "  27   3  custAge  schooling  day_of_week\n",
      "  27   4  custAge  schooling  day_of_week\n",
      "  27   5  custAge  schooling  day_of_week\n",
      "  28   1  custAge  schooling  day_of_week\n",
      "  28   2  custAge  schooling  day_of_week\n",
      "  28   3  custAge  schooling  day_of_week\n",
      "  28   4  custAge  schooling  day_of_week\n",
      "  28   5  custAge  schooling  day_of_week\n",
      "  29   1  custAge  schooling  day_of_week\n",
      "  29   2  custAge  schooling  day_of_week\n",
      "  29   3  custAge  schooling  day_of_week\n",
      "  29   4  custAge  schooling  day_of_week\n",
      "  29   5  custAge  schooling  day_of_week\n",
      "  30   1  custAge  schooling  day_of_week\n",
      "  30   2  custAge  schooling  day_of_week\n",
      "  30   3  custAge  schooling  day_of_week\n",
      "  30   4  custAge  schooling  day_of_week\n",
      "  30   5  custAge  schooling  day_of_week\n",
      "  31   1  custAge  schooling  day_of_week\n",
      "  31   2  custAge  schooling  day_of_week\n",
      "  31   3  custAge  schooling  day_of_week\n",
      "  31   4  custAge  schooling  day_of_week\n",
      "  31   5  custAge  schooling  day_of_week\n",
      "  32   1  custAge  schooling  day_of_week\n",
      "  32   2  custAge  schooling  day_of_week\n",
      "  32   3  custAge  schooling  day_of_week\n",
      "  32   4  custAge  schooling  day_of_week\n",
      "  32   5  custAge  schooling  day_of_week\n",
      "  33   1  custAge  schooling  day_of_week\n",
      "  33   2  custAge  schooling  day_of_week\n",
      "  33   3  custAge  schooling  day_of_week\n",
      "  33   4  custAge  schooling  day_of_week\n",
      "  33   5  custAge  schooling  day_of_week\n",
      "  34   1  custAge  schooling  day_of_week\n",
      "  34   2  custAge  schooling  day_of_week\n",
      "  34   3  custAge  schooling  day_of_week\n",
      "  34   4  custAge  schooling  day_of_week\n",
      "  34   5  custAge  schooling  day_of_week\n",
      "  35   1  custAge  schooling  day_of_week\n",
      "  35   2  custAge  schooling  day_of_week\n",
      "  35   3  custAge  schooling  day_of_week\n",
      "  35   4  custAge  schooling  day_of_week\n",
      "  35   5  custAge  schooling  day_of_week\n",
      "  36   1  custAge  schooling  day_of_week\n",
      "  36   2  custAge  schooling  day_of_week\n",
      "  36   3  custAge  schooling  day_of_week\n",
      "  36   4  custAge  schooling  day_of_week\n",
      "  36   5  custAge  schooling  day_of_week\n",
      "  37   1  custAge  schooling  day_of_week\n",
      "  37   2  custAge  schooling  day_of_week\n",
      "  37   3  custAge  schooling  day_of_week\n",
      "  37   4  custAge  schooling  day_of_week\n",
      "  37   5  custAge  schooling  day_of_week\n",
      "  38   1  custAge  schooling  day_of_week\n",
      "  38   2  custAge  schooling  day_of_week\n",
      "  38   3  custAge  schooling  day_of_week\n",
      "  38   4  custAge  schooling  day_of_week\n",
      "  38   5  custAge  schooling  day_of_week\n",
      "  39   1  custAge  schooling  day_of_week\n",
      "  39   2  custAge  schooling  day_of_week\n",
      "  39   3  custAge  schooling  day_of_week\n",
      "  39   4  custAge  schooling  day_of_week\n",
      "  39   5  custAge  schooling  day_of_week\n",
      "  40   1  custAge  schooling  day_of_week\n",
      "  40   2  custAge  schooling  day_of_week\n",
      "  40   3  custAge  schooling  day_of_week\n",
      "  40   4  custAge  schooling  day_of_week\n",
      "  40   5  custAge  schooling  day_of_week\n",
      "  41   1  custAge  schooling  day_of_week\n",
      "  41   2  custAge  schooling  day_of_week\n",
      "  41   3  custAge  schooling  day_of_week\n",
      "  41   4  custAge  schooling  day_of_week\n",
      "  41   5  custAge  schooling  day_of_week\n",
      "  42   1  custAge  schooling  day_of_week\n",
      "  42   2  custAge  schooling  day_of_week\n",
      "  42   3  custAge  schooling  day_of_week\n",
      "  42   4  custAge  schooling  day_of_week\n",
      "  42   5  custAge  schooling  day_of_week\n",
      "  43   1  custAge  schooling  day_of_week\n",
      "  43   2  custAge  schooling  day_of_week\n",
      "  43   3  custAge  schooling  day_of_week\n",
      "  43   4  custAge  schooling  day_of_week\n",
      "  43   5  custAge  schooling  day_of_week\n",
      "  44   1  custAge  schooling  day_of_week\n",
      "  44   2  custAge  schooling  day_of_week\n",
      "  44   3  custAge  schooling  day_of_week\n",
      "  44   4  custAge  schooling  day_of_week\n",
      "  44   5  custAge  schooling  day_of_week\n",
      "  45   1  custAge  schooling  day_of_week\n",
      "  45   2  custAge  schooling  day_of_week\n",
      "  45   3  custAge  schooling  day_of_week\n",
      "  45   4  custAge  schooling  day_of_week\n",
      "  45   5  custAge  schooling  day_of_week\n",
      "  46   1  custAge  schooling  day_of_week\n",
      "  46   2  custAge  schooling  day_of_week\n",
      "  46   3  custAge  schooling  day_of_week\n",
      "  46   4  custAge  schooling  day_of_week\n",
      "  46   5  custAge  schooling  day_of_week\n",
      "  47   1  custAge  schooling  day_of_week\n",
      "  47   2  custAge  schooling  day_of_week\n",
      "  47   3  custAge  schooling  day_of_week\n",
      "  47   4  custAge  schooling  day_of_week\n",
      "  47   5  custAge  schooling  day_of_week\n",
      "  48   1  custAge  schooling  day_of_week\n",
      "  48   2  custAge  schooling  day_of_week\n",
      "  48   3  custAge  schooling  day_of_week\n",
      "  48   4  custAge  schooling  day_of_week\n",
      "  48   5  custAge  schooling  day_of_week\n",
      "  49   1  custAge  schooling  day_of_week\n",
      "  49   2  custAge  schooling  day_of_week\n",
      "  49   3  custAge  schooling  day_of_week\n",
      "  49   4  custAge  schooling  day_of_week\n",
      "  49   5  custAge  schooling  day_of_week\n",
      "  50   1  custAge  schooling  day_of_week\n",
      "  50   2  custAge  schooling  day_of_week\n",
      "  50   3  custAge  schooling  day_of_week\n",
      "  50   4  custAge  schooling  day_of_week\n",
      "  50   5  custAge  schooling  day_of_week\n"
     ]
    }
   ],
   "source": [
    "#Imputing missing values using the MICE package\n",
    "imputed_Data_training <- mice(training, m=5, maxit = 50, seed = 500)\n",
    "#Adding the imputed data records to the dataset\n",
    "completedDatatrain <- complete(imputed_Data_training,1)"
   ]
  },
  {
   "cell_type": "code",
   "execution_count": 13,
   "metadata": {
    "collapsed": false
   },
   "outputs": [
    {
     "data": {
      "text/html": [
       "<table>\n",
       "<thead><tr><th scope=col>custAge</th><th scope=col>profession</th><th scope=col>marital</th><th scope=col>schooling</th><th scope=col>default</th><th scope=col>housing</th><th scope=col>loan</th><th scope=col>contact</th><th scope=col>month</th><th scope=col>day_of_week</th><th scope=col>...</th><th scope=col>previous</th><th scope=col>poutcome</th><th scope=col>emp.var.rate</th><th scope=col>cons.price.idx</th><th scope=col>cons.conf.idx</th><th scope=col>euribor3m</th><th scope=col>nr.employed</th><th scope=col>pmonths</th><th scope=col>pastEmail</th><th scope=col>responded</th></tr></thead>\n",
       "<tbody>\n",
       "\t<tr><td>55               </td><td>admin.           </td><td>single           </td><td>university.degree</td><td>unknown          </td><td>no               </td><td>no               </td><td>cellular         </td><td>nov              </td><td>mon              </td><td>...              </td><td>0                </td><td>nonexistent      </td><td>-0.1             </td><td>93.200           </td><td>-42.0            </td><td>4.191            </td><td>5195.8           </td><td>999              </td><td>0                </td><td>no               </td></tr>\n",
       "\t<tr><td>41               </td><td>blue-collar      </td><td>married          </td><td>high.school      </td><td>no               </td><td>no               </td><td>no               </td><td>cellular         </td><td>jul              </td><td>mon              </td><td>...              </td><td>0                </td><td>nonexistent      </td><td> 1.4             </td><td>93.918           </td><td>-42.7            </td><td>4.960            </td><td>5228.1           </td><td>999              </td><td>0                </td><td>no               </td></tr>\n",
       "\t<tr><td>42               </td><td>technician       </td><td>married          </td><td>high.school      </td><td>no               </td><td>no               </td><td>no               </td><td>telephone        </td><td>may              </td><td>mon              </td><td>...              </td><td>0                </td><td>nonexistent      </td><td> 1.1             </td><td>93.994           </td><td>-36.4            </td><td>4.857            </td><td>5191.0           </td><td>999              </td><td>0                </td><td>no               </td></tr>\n",
       "\t<tr><td>55               </td><td>management       </td><td>divorced         </td><td>university.degree</td><td>unknown          </td><td>yes              </td><td>yes              </td><td>cellular         </td><td>jul              </td><td>wed              </td><td>...              </td><td>0                </td><td>nonexistent      </td><td> 1.4             </td><td>93.918           </td><td>-42.7            </td><td>4.962            </td><td>5228.1           </td><td>999              </td><td>0                </td><td>no               </td></tr>\n",
       "\t<tr><td>58               </td><td>admin.           </td><td>divorced         </td><td>university.degree</td><td>no               </td><td>yes              </td><td>no               </td><td>cellular         </td><td>may              </td><td>tue              </td><td>...              </td><td>1                </td><td>failure          </td><td>-1.8             </td><td>92.893           </td><td>-46.2            </td><td>1.291            </td><td>5099.1           </td><td>999              </td><td>1                </td><td>no               </td></tr>\n",
       "\t<tr><td>47               </td><td>blue-collar      </td><td>married          </td><td>basic.4y         </td><td>no               </td><td>yes              </td><td>no               </td><td>telephone        </td><td>may              </td><td>fri              </td><td>...              </td><td>0                </td><td>nonexistent      </td><td> 1.1             </td><td>93.994           </td><td>-36.4            </td><td>4.857            </td><td>5191.0           </td><td>999              </td><td>0                </td><td>no               </td></tr>\n",
       "</tbody>\n",
       "</table>\n"
      ],
      "text/latex": [
       "\\begin{tabular}{r|llllllllllllllllllllll}\n",
       " custAge & profession & marital & schooling & default & housing & loan & contact & month & day\\_of\\_week & ... & previous & poutcome & emp.var.rate & cons.price.idx & cons.conf.idx & euribor3m & nr.employed & pmonths & pastEmail & responded\\\\\n",
       "\\hline\n",
       "\t 55                & admin.            & single            & university.degree & unknown           & no                & no                & cellular          & nov               & mon               & ...               & 0                 & nonexistent       & -0.1              & 93.200            & -42.0             & 4.191             & 5195.8            & 999               & 0                 & no               \\\\\n",
       "\t 41                & blue-collar       & married           & high.school       & no                & no                & no                & cellular          & jul               & mon               & ...               & 0                 & nonexistent       &  1.4              & 93.918            & -42.7             & 4.960             & 5228.1            & 999               & 0                 & no               \\\\\n",
       "\t 42                & technician        & married           & high.school       & no                & no                & no                & telephone         & may               & mon               & ...               & 0                 & nonexistent       &  1.1              & 93.994            & -36.4             & 4.857             & 5191.0            & 999               & 0                 & no               \\\\\n",
       "\t 55                & management        & divorced          & university.degree & unknown           & yes               & yes               & cellular          & jul               & wed               & ...               & 0                 & nonexistent       &  1.4              & 93.918            & -42.7             & 4.962             & 5228.1            & 999               & 0                 & no               \\\\\n",
       "\t 58                & admin.            & divorced          & university.degree & no                & yes               & no                & cellular          & may               & tue               & ...               & 1                 & failure           & -1.8              & 92.893            & -46.2             & 1.291             & 5099.1            & 999               & 1                 & no               \\\\\n",
       "\t 47                & blue-collar       & married           & basic.4y          & no                & yes               & no                & telephone         & may               & fri               & ...               & 0                 & nonexistent       &  1.1              & 93.994            & -36.4             & 4.857             & 5191.0            & 999               & 0                 & no               \\\\\n",
       "\\end{tabular}\n"
      ],
      "text/markdown": [
       "\n",
       "custAge | profession | marital | schooling | default | housing | loan | contact | month | day_of_week | ... | previous | poutcome | emp.var.rate | cons.price.idx | cons.conf.idx | euribor3m | nr.employed | pmonths | pastEmail | responded | \n",
       "|---|---|---|---|---|---|\n",
       "| 55                | admin.            | single            | university.degree | unknown           | no                | no                | cellular          | nov               | mon               | ...               | 0                 | nonexistent       | -0.1              | 93.200            | -42.0             | 4.191             | 5195.8            | 999               | 0                 | no                | \n",
       "| 41                | blue-collar       | married           | high.school       | no                | no                | no                | cellular          | jul               | mon               | ...               | 0                 | nonexistent       |  1.4              | 93.918            | -42.7             | 4.960             | 5228.1            | 999               | 0                 | no                | \n",
       "| 42                | technician        | married           | high.school       | no                | no                | no                | telephone         | may               | mon               | ...               | 0                 | nonexistent       |  1.1              | 93.994            | -36.4             | 4.857             | 5191.0            | 999               | 0                 | no                | \n",
       "| 55                | management        | divorced          | university.degree | unknown           | yes               | yes               | cellular          | jul               | wed               | ...               | 0                 | nonexistent       |  1.4              | 93.918            | -42.7             | 4.962             | 5228.1            | 999               | 0                 | no                | \n",
       "| 58                | admin.            | divorced          | university.degree | no                | yes               | no                | cellular          | may               | tue               | ...               | 1                 | failure           | -1.8              | 92.893            | -46.2             | 1.291             | 5099.1            | 999               | 1                 | no                | \n",
       "| 47                | blue-collar       | married           | basic.4y          | no                | yes               | no                | telephone         | may               | fri               | ...               | 0                 | nonexistent       |  1.1              | 93.994            | -36.4             | 4.857             | 5191.0            | 999               | 0                 | no                | \n",
       "\n",
       "\n"
      ],
      "text/plain": [
       "  custAge profession  marital  schooling         default housing loan contact  \n",
       "1 55      admin.      single   university.degree unknown no      no   cellular \n",
       "2 41      blue-collar married  high.school       no      no      no   cellular \n",
       "3 42      technician  married  high.school       no      no      no   telephone\n",
       "4 55      management  divorced university.degree unknown yes     yes  cellular \n",
       "5 58      admin.      divorced university.degree no      yes     no   cellular \n",
       "6 47      blue-collar married  basic.4y          no      yes     no   telephone\n",
       "  month day_of_week ... previous poutcome    emp.var.rate cons.price.idx\n",
       "1 nov   mon         ... 0        nonexistent -0.1         93.200        \n",
       "2 jul   mon         ... 0        nonexistent  1.4         93.918        \n",
       "3 may   mon         ... 0        nonexistent  1.1         93.994        \n",
       "4 jul   wed         ... 0        nonexistent  1.4         93.918        \n",
       "5 may   tue         ... 1        failure     -1.8         92.893        \n",
       "6 may   fri         ... 0        nonexistent  1.1         93.994        \n",
       "  cons.conf.idx euribor3m nr.employed pmonths pastEmail responded\n",
       "1 -42.0         4.191     5195.8      999     0         no       \n",
       "2 -42.7         4.960     5228.1      999     0         no       \n",
       "3 -36.4         4.857     5191.0      999     0         no       \n",
       "4 -42.7         4.962     5228.1      999     0         no       \n",
       "5 -46.2         1.291     5099.1      999     1         no       \n",
       "6 -36.4         4.857     5191.0      999     0         no       "
      ]
     },
     "metadata": {},
     "output_type": "display_data"
    }
   ],
   "source": [
    "head(completedDatatrain)"
   ]
  },
  {
   "cell_type": "code",
   "execution_count": 14,
   "metadata": {
    "collapsed": false
   },
   "outputs": [
    {
     "data": {
      "text/html": [
       "0"
      ],
      "text/latex": [
       "0"
      ],
      "text/markdown": [
       "0"
      ],
      "text/plain": [
       "[1] 0"
      ]
     },
     "metadata": {},
     "output_type": "display_data"
    }
   ],
   "source": [
    "#Verifying if the dataset still has missing values\n",
    "sum(is.na(completedDatatrain))"
   ]
  },
  {
   "cell_type": "markdown",
   "metadata": {},
   "source": [
    "The MICE function has successfully imputed all the missing values"
   ]
  },
  {
   "cell_type": "markdown",
   "metadata": {},
   "source": [
    "## SMOTE - Eliminating Class Imbalance"
   ]
  },
  {
   "cell_type": "markdown",
   "metadata": {},
   "source": [
    "To solve the class imbalance, we can do the following: under-sampling or over-sampling. The dataset being small, we can go ahead with over-sampling as we don’t have a lot of data instances. Under-sampling the majority class may be helpful, but might result in a loss of information. The other choice is to oversample the minority class with replacement or create synthetic examples.\n",
    "\n",
    "Looking at literature and studying the underlying dataset, a combination of the SMOTE (Synthetic Minority Oversampling Technique) minority class over-sampling and the majority class under-sampling using the subsample filter is incorporated, to obtain a balanced dataset with equal representation of both classes. SMOTE is considered a better fit as synthetically created instances for minority class seem to avoid the overfitting of data which could be encountered if repeated sampling of minority class instances is performed. In SMOTE, Synthetic samples are generated by operating in a feature space rather than data space. SMOTE seems to handle class imbalance problems well and methods like trees generalize well when instances are created by SMOTE. "
   ]
  },
  {
   "cell_type": "code",
   "execution_count": 15,
   "metadata": {
    "collapsed": true
   },
   "outputs": [],
   "source": [
    "#Running SMOTE on the Dataset\n",
    "balanced <- SMOTE(responded ~ ., completedDatatrain, perc.over = 300, perc.under=150)"
   ]
  },
  {
   "cell_type": "code",
   "execution_count": 16,
   "metadata": {
    "collapsed": false
   },
   "outputs": [
    {
     "data": {
      "text/plain": [
       "\n",
       "       no       yes \n",
       "0.5294118 0.4705882 "
      ]
     },
     "metadata": {},
     "output_type": "display_data"
    }
   ],
   "source": [
    "#Checking the class distribution after generating synthetic samples\n",
    "prop.table(table(balanced$responded))"
   ]
  },
  {
   "cell_type": "markdown",
   "metadata": {},
   "source": [
    "There are multiple ways to evaluate the performance of a classifier. In this problem, we use the Holdout & Cross-Validation methods. \n",
    "\n",
    "1) Holdout Method: The original data with labeled examples is oartitioned into two disjoint sets, called training(trainpart) & test(testpart) sets, respectively. The proportion of data reserved for training & testing is 80-20.\n",
    "\n",
    "2) Cross-Validation: k-fold cross validation is used in some of the following classifiers, where the data is segmented into k equal sized partitions. During each run, one of the partitions is chosen for testing while the rest of them are used for training. The leave-one-out approach has the test set containing only one record. This approach utilizes as much data as possible for training.  "
   ]
  },
  {
   "cell_type": "code",
   "execution_count": 17,
   "metadata": {
    "collapsed": true
   },
   "outputs": [],
   "source": [
    "set.seed(123)\n",
    "validation_index <- createDataPartition(balanced$responded, p=0.80, list=FALSE)\n",
    "# select 20% of the data for validation\n",
    "testpart <- balanced[-validation_index[sample(1:nrow(validation_index))],]\n",
    "# use the remaining 80% of data to training and testing the models\n",
    "trainpart <- balanced[validation_index[sample(1:nrow(validation_index))],]\n"
   ]
  },
  {
   "cell_type": "markdown",
   "metadata": {},
   "source": [
    "# 3. Model Building"
   ]
  },
  {
   "cell_type": "markdown",
   "metadata": {},
   "source": [
    "As the dataset contains a mix of both categorical and numerical data, the inherent structure of the dataset makes it appropriate to use a tree based method to classify instances. Trees produce good classifiers on mixed datatypes and also when class balancing has been done using SMOTE. \n",
    "\n",
    "Different machine learning schemes were used- J48, AdaboostM1( boosted trees), Bagging with J48, RandomForests and XGboost. \n",
    "Basic tuning was done on all schemes initially to benchmark the perfomance. The best performing model was then picked, to further tune it. \n",
    "\n",
    "Balanced Error Rate is chosen as the performance metric as opposed to Accuracy because, it gives a good estimate of whether the model is biased towards one class or performs equally well on classifying test instances across both the classes. Accuracy on the other hand could be quite misleading. We could have a really high accuracy but, it might turn out that most of the correctly classified instances belong to one class.\n",
    "\n",
    "XGboost performed the best with the least Balanced Error Rate of around 0.09. \n",
    "XGboost is used for predictions on the test set."
   ]
  },
  {
   "cell_type": "code",
   "execution_count": 18,
   "metadata": {
    "collapsed": false
   },
   "outputs": [
    {
     "data": {
      "text/plain": [
       "-U      Use unpruned tree.\n",
       "-O      Do not collapse tree.\n",
       "-C <pruning confidence>\n",
       "        Set confidence threshold for pruning.  (default 0.25)\n",
       "\tNumber of arguments: 1.\n",
       "-M <minimum number of instances>\n",
       "        Set minimum number of instances per leaf.  (default 2)\n",
       "\tNumber of arguments: 1.\n",
       "-R      Use reduced error pruning.\n",
       "-N <number of folds>\n",
       "        Set number of folds for reduced error pruning. One fold is used\n",
       "        as pruning set.  (default 3)\n",
       "\tNumber of arguments: 1.\n",
       "-B      Use binary splits only.\n",
       "-S      Do not perform subtree raising.\n",
       "-L      Do not clean up after the tree has been built.\n",
       "-A      Laplace smoothing for predicted probabilities.\n",
       "-J      Do not use MDL correction for info gain on numeric attributes.\n",
       "-Q <seed>\n",
       "        Seed for random data shuffling (default 1).\n",
       "\tNumber of arguments: 1.\n",
       "-doNotMakeSplitPointActualValue\n",
       "        Do not make split point actual value.\n",
       "-output-debug-info\n",
       "        If set, classifier is run in debug mode and may output\n",
       "        additional info to the console\n",
       "-do-not-check-capabilities\n",
       "        If set, classifier capabilities are not checked before\n",
       "        classifier is built (use with caution).\n",
       "-num-decimal-places\n",
       "        The number of decimal places for the output of numbers in the\n",
       "        model (default 2).\n",
       "\tNumber of arguments: 1.\n",
       "-batch-size\n",
       "        The desired batch size for batch prediction (default 100).\n",
       "\tNumber of arguments: 1."
      ]
     },
     "metadata": {},
     "output_type": "display_data"
    }
   ],
   "source": [
    "#explains the tuning parameters used in the Rweka package\n",
    "WOW(J48)"
   ]
  },
  {
   "cell_type": "markdown",
   "metadata": {},
   "source": [
    "## Decision Tree"
   ]
  },
  {
   "cell_type": "code",
   "execution_count": 19,
   "metadata": {
    "collapsed": false
   },
   "outputs": [
    {
     "data": {
      "text/plain": [
       "=== 10 Fold Cross Validation ===\n",
       "\n",
       "=== Summary ===\n",
       "\n",
       "Correctly Classified Instances        5127               89.7584 %\n",
       "Incorrectly Classified Instances       585               10.2416 %\n",
       "Kappa statistic                          0.7936\n",
       "Mean absolute error                      0.1628\n",
       "Root mean squared error                  0.2966\n",
       "Relative absolute error                 32.6776 %\n",
       "Root relative squared error             59.425  %\n",
       "Total Number of Instances             5712     \n",
       "\n",
       "=== Confusion Matrix ===\n",
       "\n",
       "    a    b   <-- classified as\n",
       " 2829  195 |    a = no\n",
       "  390 2298 |    b = yes"
      ]
     },
     "metadata": {},
     "output_type": "display_data"
    }
   ],
   "source": [
    "j48model <- J48(responded ~ ., data= trainpart, control= Weka_control(M=1, C=0.05, B= TRUE))\n",
    "evaluate_Weka_classifier(j48model, numFolds = 10)"
   ]
  },
  {
   "cell_type": "markdown",
   "metadata": {},
   "source": [
    "## Bagging"
   ]
  },
  {
   "cell_type": "code",
   "execution_count": 20,
   "metadata": {
    "collapsed": false,
    "scrolled": false
   },
   "outputs": [
    {
     "data": {
      "text/plain": [
       "=== 10 Fold Cross Validation ===\n",
       "\n",
       "=== Summary ===\n",
       "\n",
       "Correctly Classified Instances        5159               90.3186 %\n",
       "Incorrectly Classified Instances       553                9.6814 %\n",
       "Kappa statistic                          0.8048\n",
       "Mean absolute error                      0.1553\n",
       "Root mean squared error                  0.2804\n",
       "Relative absolute error                 31.1593 %\n",
       "Root relative squared error             56.1698 %\n",
       "Total Number of Instances             5712     \n",
       "\n",
       "=== Detailed Accuracy By Class ===\n",
       "\n",
       "                 TP Rate  FP Rate  Precision  Recall   F-Measure  MCC      ROC Area  PRC Area  Class\n",
       "                 0.943    0.142    0.882      0.943    0.912      0.807    0.943     0.920     no\n",
       "                 0.858    0.057    0.931      0.858    0.893      0.807    0.943     0.953     yes\n",
       "Weighted Avg.    0.903    0.102    0.905      0.903    0.903      0.807    0.943     0.936     \n",
       "\n",
       "=== Confusion Matrix ===\n",
       "\n",
       "    a    b   <-- classified as\n",
       " 2853  171 |    a = no\n",
       "  382 2306 |    b = yes"
      ]
     },
     "metadata": {},
     "output_type": "display_data"
    }
   ],
   "source": [
    "baggingmodel <- Bagging(responded ~ ., data= trainpart, control= Weka_control(W= list(J48, M=1, R=TRUE, N=3)))\n",
    "evaluate_Weka_classifier(baggingmodel, numFolds = 10, class= TRUE)"
   ]
  },
  {
   "cell_type": "markdown",
   "metadata": {},
   "source": [
    "## AdaBoost"
   ]
  },
  {
   "cell_type": "code",
   "execution_count": 21,
   "metadata": {
    "collapsed": false
   },
   "outputs": [
    {
     "data": {
      "text/plain": [
       "=== 10 Fold Cross Validation ===\n",
       "\n",
       "=== Summary ===\n",
       "\n",
       "Correctly Classified Instances        5065               88.673  %\n",
       "Incorrectly Classified Instances       647               11.327  %\n",
       "Kappa statistic                          0.772 \n",
       "Mean absolute error                      0.1111\n",
       "Root mean squared error                  0.3167\n",
       "Relative absolute error                 22.2919 %\n",
       "Root relative squared error             63.443  %\n",
       "Total Number of Instances             5712     \n",
       "\n",
       "=== Detailed Accuracy By Class ===\n",
       "\n",
       "                 TP Rate  FP Rate  Precision  Recall   F-Measure  MCC      ROC Area  PRC Area  Class\n",
       "                 0.916    0.146    0.876      0.916    0.895      0.773    0.934     0.912     no\n",
       "                 0.854    0.084    0.900      0.854    0.877      0.773    0.934     0.941     yes\n",
       "Weighted Avg.    0.887    0.117    0.887      0.887    0.887      0.773    0.934     0.926     \n",
       "\n",
       "=== Confusion Matrix ===\n",
       "\n",
       "    a    b   <-- classified as\n",
       " 2769  255 |    a = no\n",
       "  392 2296 |    b = yes"
      ]
     },
     "metadata": {},
     "output_type": "display_data"
    }
   ],
   "source": [
    "adaboostmodel <- AdaBoostM1(responded ~ ., data= trainpart, control= Weka_control(W= list(J48, M=1, C=0.05, B= TRUE )))\n",
    "evaluate_Weka_classifier(adaboostmodel, numFolds = 10, confusionMatrix= TRUE, class= TRUE)"
   ]
  },
  {
   "cell_type": "markdown",
   "metadata": {},
   "source": [
    "## XGBoost"
   ]
  },
  {
   "cell_type": "markdown",
   "metadata": {},
   "source": [
    "XGboost is a special modification of Gradient Boosted trees with a provision to add regularization parameters which avoid large value coefficients and controlling overfitting. It takes the best features of boosting ( ie. producing good results from weak learners) and uses an optimization model at its core with shrinkage parameters. The gradient descent algorithm at its core leads to better performance and less overfitting. \n",
    "\n",
    "For the given data, XGboost performs the best.\n",
    "\n",
    "With the above models evaluated, XGboost offer us a good amount of robustness, good flexibility and seems to perform consistently with less difference in accuracy over a range of parameter values. Its chosen to generate the classifications on the test set. \n",
    "It's expected to perform better than other learning methods in accuracy as well as balanced error rates and specificity. \n"
   ]
  },
  {
   "cell_type": "code",
   "execution_count": 25,
   "metadata": {
    "collapsed": false
   },
   "outputs": [],
   "source": [
    "#Extracting the feature names from feature space\n",
    "feature.names <- names(trainpart)[1:ncol(trainpart)-1]"
   ]
  },
  {
   "cell_type": "code",
   "execution_count": 26,
   "metadata": {
    "collapsed": false
   },
   "outputs": [
    {
     "data": {
      "text/html": [
       "<ol class=list-inline>\n",
       "\t<li>'custAge'</li>\n",
       "\t<li>'profession'</li>\n",
       "\t<li>'marital'</li>\n",
       "\t<li>'schooling'</li>\n",
       "\t<li>'default'</li>\n",
       "\t<li>'housing'</li>\n",
       "\t<li>'loan'</li>\n",
       "\t<li>'contact'</li>\n",
       "\t<li>'month'</li>\n",
       "\t<li>'day_of_week'</li>\n",
       "\t<li>'campaign'</li>\n",
       "\t<li>'pdays'</li>\n",
       "\t<li>'previous'</li>\n",
       "\t<li>'poutcome'</li>\n",
       "\t<li>'emp.var.rate'</li>\n",
       "\t<li>'cons.price.idx'</li>\n",
       "\t<li>'cons.conf.idx'</li>\n",
       "\t<li>'euribor3m'</li>\n",
       "\t<li>'nr.employed'</li>\n",
       "\t<li>'pmonths'</li>\n",
       "\t<li>'pastEmail'</li>\n",
       "</ol>\n"
      ],
      "text/latex": [
       "\\begin{enumerate*}\n",
       "\\item 'custAge'\n",
       "\\item 'profession'\n",
       "\\item 'marital'\n",
       "\\item 'schooling'\n",
       "\\item 'default'\n",
       "\\item 'housing'\n",
       "\\item 'loan'\n",
       "\\item 'contact'\n",
       "\\item 'month'\n",
       "\\item 'day\\_of\\_week'\n",
       "\\item 'campaign'\n",
       "\\item 'pdays'\n",
       "\\item 'previous'\n",
       "\\item 'poutcome'\n",
       "\\item 'emp.var.rate'\n",
       "\\item 'cons.price.idx'\n",
       "\\item 'cons.conf.idx'\n",
       "\\item 'euribor3m'\n",
       "\\item 'nr.employed'\n",
       "\\item 'pmonths'\n",
       "\\item 'pastEmail'\n",
       "\\end{enumerate*}\n"
      ],
      "text/markdown": [
       "1. 'custAge'\n",
       "2. 'profession'\n",
       "3. 'marital'\n",
       "4. 'schooling'\n",
       "5. 'default'\n",
       "6. 'housing'\n",
       "7. 'loan'\n",
       "8. 'contact'\n",
       "9. 'month'\n",
       "10. 'day_of_week'\n",
       "11. 'campaign'\n",
       "12. 'pdays'\n",
       "13. 'previous'\n",
       "14. 'poutcome'\n",
       "15. 'emp.var.rate'\n",
       "16. 'cons.price.idx'\n",
       "17. 'cons.conf.idx'\n",
       "18. 'euribor3m'\n",
       "19. 'nr.employed'\n",
       "20. 'pmonths'\n",
       "21. 'pastEmail'\n",
       "\n",
       "\n"
      ],
      "text/plain": [
       " [1] \"custAge\"        \"profession\"     \"marital\"        \"schooling\"     \n",
       " [5] \"default\"        \"housing\"        \"loan\"           \"contact\"       \n",
       " [9] \"month\"          \"day_of_week\"    \"campaign\"       \"pdays\"         \n",
       "[13] \"previous\"       \"poutcome\"       \"emp.var.rate\"   \"cons.price.idx\"\n",
       "[17] \"cons.conf.idx\"  \"euribor3m\"      \"nr.employed\"    \"pmonths\"       \n",
       "[21] \"pastEmail\"     "
      ]
     },
     "metadata": {},
     "output_type": "display_data"
    }
   ],
   "source": [
    "feature.names"
   ]
  },
  {
   "cell_type": "code",
   "execution_count": 27,
   "metadata": {
    "collapsed": false
   },
   "outputs": [
    {
     "name": "stdout",
     "output_type": "stream",
     "text": [
      "assuming text variables are categorical & replacing them with numeric ids\n"
     ]
    }
   ],
   "source": [
    "#XGBoost only functions with numeric variables. This calls for converting all the categorical factors into numeric data\n",
    "cat(\"assuming text variables are categorical & replacing them with numeric ids\\n\")\n",
    "for (f in feature.names) {\n",
    "  if (class(trainpart[[f]])==\"character\") {\n",
    "    levels <- unique(c(trainpart[[f]], testpart[[f]]))\n",
    "    trainpart[[f]] <- as.integer(factor(trainpart[[f]], levels=levels))\n",
    "    testpart[[f]]  <- as.integer(factor(testpart[[f]],  levels=levels))\n",
    "  }\n",
    "}"
   ]
  },
  {
   "cell_type": "code",
   "execution_count": 28,
   "metadata": {
    "collapsed": false
   },
   "outputs": [],
   "source": [
    "#The response variable has to be converted to binary (0,1) in order to support a Logistic Regression learner\n",
    "trainpart$responded = as.numeric(trainpart$responded) \n",
    "trainpart$responded = ifelse(trainpart$responded == 2,0,1)  "
   ]
  },
  {
   "cell_type": "code",
   "execution_count": 58,
   "metadata": {
    "collapsed": false
   },
   "outputs": [
    {
     "name": "stdout",
     "output_type": "stream",
     "text": [
      "training an XGBoost classifier\n",
      "[1]\ttrain-error:0.077556 \n",
      "[2]\ttrain-error:0.075980 \n",
      "[3]\ttrain-error:0.069503 \n",
      "[4]\ttrain-error:0.069328 \n",
      "[5]\ttrain-error:0.066527 \n",
      "[6]\ttrain-error:0.064076 \n",
      "[7]\ttrain-error:0.062325 \n",
      "[8]\ttrain-error:0.061625 \n",
      "[9]\ttrain-error:0.060924 \n",
      "[10]\ttrain-error:0.061800 \n",
      "[11]\ttrain-error:0.060049 \n",
      "[12]\ttrain-error:0.059349 \n",
      "[13]\ttrain-error:0.058824 \n",
      "[14]\ttrain-error:0.056898 \n",
      "[15]\ttrain-error:0.057073 \n",
      "[16]\ttrain-error:0.055147 \n",
      "[17]\ttrain-error:0.053221 \n",
      "[18]\ttrain-error:0.053396 \n",
      "[19]\ttrain-error:0.051646 \n",
      "[20]\ttrain-error:0.050070 \n",
      "[21]\ttrain-error:0.047969 \n",
      "[22]\ttrain-error:0.049020 \n",
      "[23]\ttrain-error:0.047794 \n",
      "[24]\ttrain-error:0.047094 \n",
      "[25]\ttrain-error:0.047619 \n",
      "[26]\ttrain-error:0.047444 \n",
      "[27]\ttrain-error:0.046744 \n",
      "[28]\ttrain-error:0.044818 \n",
      "[29]\ttrain-error:0.045343 \n",
      "[30]\ttrain-error:0.044818 \n",
      "[31]\ttrain-error:0.043943 \n",
      "[32]\ttrain-error:0.043067 \n",
      "[33]\ttrain-error:0.042542 \n",
      "[34]\ttrain-error:0.042192 \n",
      "[35]\ttrain-error:0.041842 \n",
      "[36]\ttrain-error:0.041842 \n",
      "[37]\ttrain-error:0.041492 \n",
      "[38]\ttrain-error:0.041492 \n",
      "[39]\ttrain-error:0.041317 \n",
      "[40]\ttrain-error:0.041317 \n",
      "[41]\ttrain-error:0.041317 \n",
      "[42]\ttrain-error:0.041317 \n",
      "[43]\ttrain-error:0.041317 \n",
      "[44]\ttrain-error:0.041317 \n",
      "[45]\ttrain-error:0.041317 \n",
      "[46]\ttrain-error:0.041317 \n",
      "[47]\ttrain-error:0.041317 \n",
      "[48]\ttrain-error:0.041317 \n",
      "[49]\ttrain-error:0.041317 \n",
      "[50]\ttrain-error:0.041317 \n",
      "[51]\ttrain-error:0.041317 \n",
      "[52]\ttrain-error:0.041317 \n",
      "[53]\ttrain-error:0.041317 \n",
      "[54]\ttrain-error:0.041317 \n",
      "[55]\ttrain-error:0.041317 \n",
      "[56]\ttrain-error:0.041317 \n",
      "[57]\ttrain-error:0.041317 \n",
      "[58]\ttrain-error:0.041317 \n",
      "[59]\ttrain-error:0.041317 \n",
      "[60]\ttrain-error:0.041317 \n",
      "[61]\ttrain-error:0.041317 \n",
      "[62]\ttrain-error:0.041317 \n",
      "[63]\ttrain-error:0.041317 \n",
      "[64]\ttrain-error:0.041317 \n",
      "[65]\ttrain-error:0.041317 \n",
      "[66]\ttrain-error:0.041317 \n",
      "[67]\ttrain-error:0.041317 \n",
      "[68]\ttrain-error:0.041317 \n",
      "[69]\ttrain-error:0.041317 \n",
      "[70]\ttrain-error:0.041317 \n",
      "[71]\ttrain-error:0.041317 \n",
      "[72]\ttrain-error:0.041317 \n",
      "[73]\ttrain-error:0.041317 \n",
      "[74]\ttrain-error:0.041317 \n",
      "[75]\ttrain-error:0.041317 \n",
      "[76]\ttrain-error:0.041317 \n",
      "[77]\ttrain-error:0.041317 \n",
      "[78]\ttrain-error:0.041317 \n",
      "[79]\ttrain-error:0.041317 \n",
      "[80]\ttrain-error:0.041317 \n",
      "[81]\ttrain-error:0.041317 \n",
      "[82]\ttrain-error:0.041317 \n",
      "[83]\ttrain-error:0.041317 \n",
      "[84]\ttrain-error:0.041317 \n",
      "[85]\ttrain-error:0.041317 \n",
      "[86]\ttrain-error:0.041317 \n",
      "[87]\ttrain-error:0.041317 \n",
      "[88]\ttrain-error:0.041317 \n",
      "[89]\ttrain-error:0.041317 \n",
      "[90]\ttrain-error:0.041317 \n",
      "[91]\ttrain-error:0.041317 \n",
      "[92]\ttrain-error:0.041317 \n",
      "[93]\ttrain-error:0.041317 \n",
      "[94]\ttrain-error:0.041317 \n",
      "[95]\ttrain-error:0.041317 \n",
      "[96]\ttrain-error:0.041317 \n",
      "[97]\ttrain-error:0.041317 \n",
      "[98]\ttrain-error:0.041317 \n",
      "[99]\ttrain-error:0.041317 \n",
      "[100]\ttrain-error:0.041317 \n"
     ]
    }
   ],
   "source": [
    "cat(\"training an XGBoost classifier\\n\")\n",
    "xgtrain <- xgboost(data        = data.matrix(trainpart[,feature.names]),\n",
    "               label       = trainpart$responded,\n",
    "               nrounds     = 100,\n",
    "               gamma       = 2, \n",
    "               max_depth   = 12, \n",
    "               lambda   = 2,\n",
    "               objective   = \"binary:logistic\",\n",
    "               eval_metric = \"error\")"
   ]
  },
  {
   "cell_type": "code",
   "execution_count": 59,
   "metadata": {
    "collapsed": false
   },
   "outputs": [],
   "source": [
    "submission <- data.frame(Actual=testpart$responded)\n",
    "for (rows in split(1:nrow(testpart),ceiling((1:nrow(testpart))/10000))) {\n",
    "    submission[rows, \"output\"] <- predict(xgtrain, data.matrix(testpart[rows,feature.names]))\n",
    "}"
   ]
  },
  {
   "cell_type": "code",
   "execution_count": 60,
   "metadata": {
    "collapsed": false
   },
   "outputs": [],
   "source": [
    "submission$Predicted = as.factor(ifelse(submission$output>0.5,'no','yes'))"
   ]
  },
  {
   "cell_type": "code",
   "execution_count": 61,
   "metadata": {
    "collapsed": false
   },
   "outputs": [
    {
     "name": "stdout",
     "output_type": "stream",
     "text": [
      "'data.frame':\t1428 obs. of  3 variables:\n",
      " $ Actual   : Factor w/ 2 levels \"no\",\"yes\": 1 1 1 1 1 1 1 1 1 1 ...\n",
      " $ output   : num  0.947 0.933 0.978 0.876 0.973 ...\n",
      " $ Predicted: Factor w/ 2 levels \"no\",\"yes\": 1 1 1 1 1 1 1 1 1 1 ...\n"
     ]
    }
   ],
   "source": [
    "str(submission)"
   ]
  },
  {
   "cell_type": "code",
   "execution_count": 63,
   "metadata": {
    "collapsed": false,
    "scrolled": true
   },
   "outputs": [
    {
     "data": {
      "text/plain": [
       "Confusion Matrix and Statistics\n",
       "\n",
       "          Reference\n",
       "Prediction  no yes\n",
       "       no  717  39\n",
       "       yes  93 579\n",
       "                                          \n",
       "               Accuracy : 0.9076          \n",
       "                 95% CI : (0.8913, 0.9221)\n",
       "    No Information Rate : 0.5672          \n",
       "    P-Value [Acc > NIR] : < 2.2e-16       \n",
       "                                          \n",
       "                  Kappa : 0.8137          \n",
       " Mcnemar's Test P-Value : 3.968e-06       \n",
       "                                          \n",
       "            Sensitivity : 0.8852          \n",
       "            Specificity : 0.9369          \n",
       "         Pos Pred Value : 0.9484          \n",
       "         Neg Pred Value : 0.8616          \n",
       "             Prevalence : 0.5672          \n",
       "         Detection Rate : 0.5021          \n",
       "   Detection Prevalence : 0.5294          \n",
       "      Balanced Accuracy : 0.9110          \n",
       "                                          \n",
       "       'Positive' Class : no              \n",
       "                                          "
      ]
     },
     "metadata": {},
     "output_type": "display_data"
    }
   ],
   "source": [
    "confusionMatrix(submission$Actual, submission$Predicted)"
   ]
  },
  {
   "cell_type": "code",
   "execution_count": 64,
   "metadata": {
    "collapsed": true
   },
   "outputs": [],
   "source": [
    "mat <- xgb.importance (feature_names = feature.names,model = xgtrain)"
   ]
  },
  {
   "cell_type": "code",
   "execution_count": 65,
   "metadata": {
    "collapsed": false,
    "scrolled": true
   },
   "outputs": [
    {
     "data": {
      "image/png": "[encoded data removed]",
      "text/plain": [
       "plot without title"
      ]
     },
     "metadata": {},
     "output_type": "display_data"
    }
   ],
   "source": [
    "xgb.plot.importance (importance_matrix = mat[1:20]) "
   ]
  },
  {
   "cell_type": "markdown",
   "metadata": {},
   "source": [
    "Further models were run by taking a subset of features from the Feature Importance plot. But, there was no sign of improved results. The XGboost model was decided to be the final model. "
   ]
  },
  {
   "cell_type": "code",
   "execution_count": 66,
   "metadata": {
    "collapsed": false
   },
   "outputs": [
    {
     "data": {
      "text/html": [
       "<table>\n",
       "<thead><tr><th scope=col>Actual</th><th scope=col>output</th><th scope=col>Predicted</th></tr></thead>\n",
       "<tbody>\n",
       "\t<tr><td>no       </td><td>0.9474081</td><td>no       </td></tr>\n",
       "\t<tr><td>no       </td><td>0.9330713</td><td>no       </td></tr>\n",
       "\t<tr><td>no       </td><td>0.9780301</td><td>no       </td></tr>\n",
       "\t<tr><td>no       </td><td>0.8758960</td><td>no       </td></tr>\n",
       "\t<tr><td>no       </td><td>0.9729705</td><td>no       </td></tr>\n",
       "\t<tr><td>no       </td><td>0.9580494</td><td>no       </td></tr>\n",
       "\t<tr><td>no       </td><td>0.9589851</td><td>no       </td></tr>\n",
       "\t<tr><td>no       </td><td>0.9699380</td><td>no       </td></tr>\n",
       "\t<tr><td>no       </td><td>0.9363085</td><td>no       </td></tr>\n",
       "\t<tr><td>no       </td><td>0.9537542</td><td>no       </td></tr>\n",
       "</tbody>\n",
       "</table>\n"
      ],
      "text/latex": [
       "\\begin{tabular}{r|lll}\n",
       " Actual & output & Predicted\\\\\n",
       "\\hline\n",
       "\t no        & 0.9474081 & no       \\\\\n",
       "\t no        & 0.9330713 & no       \\\\\n",
       "\t no        & 0.9780301 & no       \\\\\n",
       "\t no        & 0.8758960 & no       \\\\\n",
       "\t no        & 0.9729705 & no       \\\\\n",
       "\t no        & 0.9580494 & no       \\\\\n",
       "\t no        & 0.9589851 & no       \\\\\n",
       "\t no        & 0.9699380 & no       \\\\\n",
       "\t no        & 0.9363085 & no       \\\\\n",
       "\t no        & 0.9537542 & no       \\\\\n",
       "\\end{tabular}\n"
      ],
      "text/markdown": [
       "\n",
       "Actual | output | Predicted | \n",
       "|---|---|---|---|---|---|---|---|---|---|\n",
       "| no        | 0.9474081 | no        | \n",
       "| no        | 0.9330713 | no        | \n",
       "| no        | 0.9780301 | no        | \n",
       "| no        | 0.8758960 | no        | \n",
       "| no        | 0.9729705 | no        | \n",
       "| no        | 0.9580494 | no        | \n",
       "| no        | 0.9589851 | no        | \n",
       "| no        | 0.9699380 | no        | \n",
       "| no        | 0.9363085 | no        | \n",
       "| no        | 0.9537542 | no        | \n",
       "\n",
       "\n"
      ],
      "text/plain": [
       "   Actual output    Predicted\n",
       "1  no     0.9474081 no       \n",
       "2  no     0.9330713 no       \n",
       "3  no     0.9780301 no       \n",
       "4  no     0.8758960 no       \n",
       "5  no     0.9729705 no       \n",
       "6  no     0.9580494 no       \n",
       "7  no     0.9589851 no       \n",
       "8  no     0.9699380 no       \n",
       "9  no     0.9363085 no       \n",
       "10 no     0.9537542 no       "
      ]
     },
     "metadata": {},
     "output_type": "display_data"
    }
   ],
   "source": [
    "head(submission,10)"
   ]
  },
  {
   "cell_type": "markdown",
   "metadata": {},
   "source": [
    "## Writing test predictions to file"
   ]
  },
  {
   "cell_type": "code",
   "execution_count": 67,
   "metadata": {
    "collapsed": false
   },
   "outputs": [
    {
     "name": "stdout",
     "output_type": "stream",
     "text": [
      "saving the submission file\n"
     ]
    }
   ],
   "source": [
    "cat(\"saving the submission file\\n\")\n",
    "write_csv(submission, \"......./predictions.csv\")"
   ]
  }
 ],
 "metadata": {
  "kernelspec": {
   "display_name": "R",
   "language": "R",
   "name": "ir"
  },
  "language_info": {
   "codemirror_mode": "r",
   "file_extension": ".r",
   "mimetype": "text/x-r-source",
   "name": "R",
   "pygments_lexer": "r",
   "version": "3.3.2"
  }
 },
 "nbformat": 4,
 "nbformat_minor": 2
}
